{
  "nbformat": 4,
  "nbformat_minor": 0,
  "metadata": {
    "colab": {
      "name": "Naive_bayes1.ipynb",
      "provenance": []
    },
    "kernelspec": {
      "name": "python3",
      "display_name": "Python 3"
    },
    "language_info": {
      "name": "python"
    }
  },
  "cells": [
    {
      "cell_type": "code",
      "source": [
        "from sklearn.model_selection import train_test_split\n",
        "from sklearn.datasets import load_iris\n",
        "# Loading data\n",
        "irisData = load_iris()\n",
        "print(\"Features: \", irisData.feature_names)\n",
        "\n",
        "# print the label type of wine(class_0, class_1, class_2)\n",
        "print(\"Labels: \", irisData.target_names)\n",
        "# Create feature and target arrays\n",
        "X = irisData.data\n",
        "y = irisData.target\n",
        "# Split into training and test set\n",
        "X_train, X_test, y_train, y_test = train_test_split(X, y, test_size = 0.2, random_state=42)"
      ],
      "metadata": {
        "id": "zT6_2OTAcDK3",
        "colab": {
          "base_uri": "https://localhost:8080/"
        },
        "outputId": "ba5e14b5-cfc2-465a-aeb8-a55e775d2ac1"
      },
      "execution_count": null,
      "outputs": [
        {
          "output_type": "stream",
          "name": "stdout",
          "text": [
            "Features:  ['sepal length (cm)', 'sepal width (cm)', 'petal length (cm)', 'petal width (cm)']\n",
            "Labels:  ['setosa' 'versicolor' 'virginica']\n"
          ]
        }
      ]
    },
    {
      "cell_type": "code",
      "source": [
        "from sklearn.naive_bayes import GaussianNB\n",
        "#Create a Gaussian Classifier\n",
        "gnb = GaussianNB()\n",
        "#Train the model using the training sets\n",
        "gnb.fit(X_train, y_train)\n",
        "#Predict the response for test dataset\n",
        "print(gnb.predict([[7.7,2.6,6.9,2.3]]))\n",
        "print(y_test)"
      ],
      "metadata": {
        "id": "w8h9OfB5cWEb",
        "colab": {
          "base_uri": "https://localhost:8080/"
        },
        "outputId": "6c5e8916-c4a1-4e88-ef2f-36fba6c91c20"
      },
      "execution_count": null,
      "outputs": [
        {
          "output_type": "stream",
          "name": "stdout",
          "text": [
            "[2]\n",
            "[1 0 2 1 1 0 1 2 1 1 2 0 0 0 0 1 2 1 1 2 0 2 0 2 2 2 2 2 0 0]\n"
          ]
        }
      ]
    },
    {
      "cell_type": "code",
      "source": [
        "y_pred1 = gnb.predict(X_test)\n",
        "print(y_pred1)"
      ],
      "metadata": {
        "id": "VSQJqVmrcpad",
        "colab": {
          "base_uri": "https://localhost:8080/"
        },
        "outputId": "f6957eca-26eb-4d84-874b-e0ed0043de41"
      },
      "execution_count": null,
      "outputs": [
        {
          "output_type": "stream",
          "name": "stdout",
          "text": [
            "[1 0 2 1 1 0 1 2 1 1 2 0 0 0 0 1 2 1 1 2 0 2 0 2 2 2 2 2 0 0]\n"
          ]
        }
      ]
    },
    {
      "cell_type": "code",
      "source": [
        "from sklearn.metrics import accuracy_score\n",
        "ac1 = accuracy_score(y_test,y_pred1)\n",
        "print(ac1)"
      ],
      "metadata": {
        "id": "OiXZP5Q1cruY",
        "colab": {
          "base_uri": "https://localhost:8080/"
        },
        "outputId": "4f3cca6b-0e50-4447-b8aa-d3e73cc9e381"
      },
      "execution_count": null,
      "outputs": [
        {
          "output_type": "stream",
          "name": "stdout",
          "text": [
            "1.0\n"
          ]
        }
      ]
    }
  ]
}